{
 "cells": [
  {
   "cell_type": "markdown",
   "id": "d8728c91-72af-4952-a3d0-16a644194718",
   "metadata": {
    "tags": []
   },
   "source": [
    "# Data Science Tools and Ecosystem"
   ]
  },
  {
   "cell_type": "markdown",
   "id": "18036576-6125-41c6-9497-0f4d61686336",
   "metadata": {},
   "source": [
    "In this notebook, Data Science Tools and Ecosystem are summarized."
   ]
  },
  {
   "cell_type": "markdown",
   "id": "5d2af937-88d6-4286-ba1d-e4c94877aa46",
   "metadata": {},
   "source": [
    "**Objectives:**\n",
    "* List popular languages in data science\n",
    "* List commonly used libraries used by data scientists\n",
    "* Create a table of data science tools\n",
    "* Perform basic arithmetic in Python"
   ]
  },
  {
   "cell_type": "markdown",
   "id": "36a350de-d7b7-49c6-a2c7-f714cb8d2845",
   "metadata": {
    "tags": []
   },
   "source": [
    "Some of the popular languages that Data Scientists use are:\n",
    "1. Python\n",
    "2. R\n",
    "3. Julia"
   ]
  },
  {
   "cell_type": "markdown",
   "id": "60965c85-b811-4199-aa11-b0b97bfe4b8a",
   "metadata": {},
   "source": [
    "Some of the commonly used libraries used by Data Scientists Include:\n",
    "1. plotly\n",
    "2. ggplot2\n",
    "3. pandas"
   ]
  },
  {
   "cell_type": "markdown",
   "id": "fed4e046-ce23-428e-a665-dd6cbd6e330a",
   "metadata": {
    "tags": []
   },
   "source": [
    "| Data Science Tools |\n",
    "| --------- |\n",
    "| Rstudio |\n",
    "| VSCode |\n",
    "| Jupyter Notebooks |"
   ]
  },
  {
   "cell_type": "markdown",
   "id": "2a08c707-ff8d-4539-bc79-99c9ac1dd511",
   "metadata": {
    "tags": []
   },
   "source": [
    "### Below are a few examples of evaluating arithmetic expressions in Python"
   ]
  },
  {
   "cell_type": "code",
   "execution_count": 25,
   "id": "cded1b18-7dba-4ffc-b699-96a5182232e6",
   "metadata": {
    "tags": []
   },
   "outputs": [
    {
     "data": {
      "text/plain": [
       "17"
      ]
     },
     "execution_count": 25,
     "metadata": {},
     "output_type": "execute_result"
    }
   ],
   "source": [
    "#This is a simple arithmetic expression to multiply then add an integer.\n",
    "(3 * 4) + 5"
   ]
  },
  {
   "cell_type": "code",
   "execution_count": 27,
   "id": "ebedb133-c5c2-4f27-9b97-4f1e7d9836c7",
   "metadata": {
    "tags": []
   },
   "outputs": [
    {
     "data": {
      "text/plain": [
       "3.3333333333333335"
      ]
     },
     "execution_count": 27,
     "metadata": {},
     "output_type": "execute_result"
    }
   ],
   "source": [
    "#This will convert 200 minutes to hours by dividing by 60.\n",
    "200/60"
   ]
  },
  {
   "cell_type": "markdown",
   "id": "2462bd23-2da9-4686-a733-ed3867662301",
   "metadata": {},
   "source": [
    "## Author\n",
    "BP"
   ]
  },
  {
   "cell_type": "code",
   "execution_count": null,
   "id": "023f5e20-be94-4b33-af19-eae6bfbc93ab",
   "metadata": {},
   "outputs": [],
   "source": []
  }
 ],
 "metadata": {
  "kernelspec": {
   "display_name": "Python 3 (ipykernel)",
   "language": "python",
   "name": "python3"
  },
  "language_info": {
   "codemirror_mode": {
    "name": "ipython",
    "version": 3
   },
   "file_extension": ".py",
   "mimetype": "text/x-python",
   "name": "python",
   "nbconvert_exporter": "python",
   "pygments_lexer": "ipython3",
   "version": "3.11.5"
  }
 },
 "nbformat": 4,
 "nbformat_minor": 5
}
